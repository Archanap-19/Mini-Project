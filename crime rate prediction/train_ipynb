import pandas as pd
import matplotlib.pyplot as plt
from sklearn.preprocessing import LabelEncoder
from sklearn.model_selection import train_test_split
from sklearn.ensemble import RandomForestRegressor
from sklearn import metrics

dataset = pd.read_excel("crimedatanew.xlsx", sheet_name="Sheet1")
dataset
dataset.info()

#data visualisation
fig, ax = plt.subplots(11, 1, figsize=(10, 50))

for i in range(0, 11):
    ax[i].barh(dataset['City'], dataset[dataset.columns[i+2]], 0.6, color='green')
    ax[i].set_title('City vs ' + dataset.columns[i+2])
plt.show()

      new_df = pd.DataFrame(columns=['Year', 'City', 'Population (in Lakhs) (2011)+', 'Number Of Cases', 'Type'])
for i in range(3, 13):
    temp = dataset[['Year', 'City', 'Population (in Lakhs) (2011)+']].copy()
    temp['Number Of Cases'] = dataset[[dataset.columns[i]]]
    temp['Type'] = dataset.columns[i]
    
    new_df = pd.concat([new_df, temp])
                  
    new_df
                  
#data preprocessing
new_df['Crime Rate'] = new_df['Number Of Cases'] / new_df['Population (in Lakhs) (2011)+']
new_df

new_df = new_df.drop(['Number Of Cases'], axis=1)

# saving the new dataset as an excel file
new_df.to_excel("new_dataset.xlsx", index=False, sheet_name ='Sheet1')

#loading new dataset
new_dataset = pd.read_excel("new_dataset.xlsx", sheet_name="Sheet1")

new_dataset
new_dataset.info()

new_dataset.describe()

# label encoding
le = LabelEncoder()
                              
new_dataset['City'] = le.fit_transform(new_dataset['City'])
mapping = dict(zip(le.classes_, range(len(le.classes_))))

# Saving the mapping file for further use
file = open('city_Mapping.txt', 'wt')
for key,val in mapping.items():
    print(str(key) + " - " + str(val) + '\n')
    file.write(str(key) + " - " + str(val) + '\n')

new_dataset['Type'] = le.fit_transform(new_dataset['Type'])
mapping = dict(zip(le.classes_, range(len(le.classes_))))

# Saving the mapping file for further use
file = open('Type_Mapping.txt', 'wt')
for key,val in mapping.items():
    print(str(key) + " - " + str(val) + '\n')
    file.write(str(key) + " - " + str(val) + '\n')

new_dataset

#splitting dataset for training
x = new_dataset[new_dataset.columns[0:4]].values
x

y = new_dataset['Crime Rate'].values
y

x_train, x_test, y_train, y_test = train_test_split(x, y, test_size=0.20, random_state=50)
                                                            
x_train
y_train
                                                            
#using Random forest algorithm
#model creation
model4 = RandomForestRegressor(random_state=0)
model4.fit(x_train, y_train)
y_pred = model4.predict(x_test)

#model evaluation                                                            
print('Mean Absolute Error:', metrics.mean_absolute_error(y_test, y_pred))
print('Mean Squared Error:', metrics.mean_squared_error(y_test, y_pred))
print('R2 score:', metrics.r2_score(y_test, y_pred))


                              
